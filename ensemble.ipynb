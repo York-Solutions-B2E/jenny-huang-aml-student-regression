{
 "cells": [
  {
   "cell_type": "markdown",
   "metadata": {},
   "source": [
    "### K Neighbors Ensemble\n",
    "This is an exploratory implementation of an ensemble of K Neighbors, to see if improvement in performance can be achieved "
   ]
  },
  {
   "cell_type": "code",
   "execution_count": 2,
   "metadata": {},
   "outputs": [
    {
     "data": {
      "text/plain": [
       "<module 'feature_eng' from '/Users/yorkmacbook020/Documents/york/jenny-huang/jenny-huang-aml-student-regression/feature_eng.py'>"
      ]
     },
     "execution_count": 2,
     "metadata": {},
     "output_type": "execute_result"
    }
   ],
   "source": [
    "import pandas as pd \n",
    "import numpy as np\n",
    "import matplotlib.pyplot as plt\n",
    "import seaborn as sns\n",
    "from sklearn.metrics import  mean_squared_error, r2_score, mean_absolute_error\n",
    "from sklearn.feature_selection import mutual_info_regression, SelectKBest\n",
    "from sklearn.svm import SVR\n",
    "from sklearn.neighbors import KNeighborsRegressor\n",
    "import model_functions as mf\n",
    "import feature_eng as fe\n",
    "import importlib\n",
    "importlib.reload(mf)\n",
    "importlib.reload(fe)"
   ]
  },
  {
   "cell_type": "code",
   "execution_count": 3,
   "metadata": {},
   "outputs": [],
   "source": [
    "class KNEnsemble:\n",
    "    def __init__(self, n_estimators = 1, n_neighbors = 5, X = None, y = None):\n",
    "        self.estimators = {}\n",
    "        self.features = {}\n",
    "        self.data = {}\n",
    "        for i in range(n_estimators):\n",
    "            kn = KNeighborsRegressor(n_neighbors=n_neighbors)\n",
    "            self.estimators[i] = kn\n",
    "            X_train, X_test, y_train, y_test = fe.split_transform(X, y, fe.ord_trans, random_state = None)\n",
    "            self.data[i] = X_train, X_test, y_train, y_test\n",
    "    def fit(self):\n",
    "        selectors = [SelectKBest(k = i, score_func = mutual_info_regression) for i in range (3, len(self.data[0][0].columns)+1)]\n",
    "        for k, v in self.estimators.items():\n",
    "            self.features[k] = mf.compare_models([v], self.data[k][0], self.data[k][1], self.data[k][2], self.data[k][3], selectors, 'relative error')['features'][0]\n",
    "            print(self.features[k])\n",
    "            v.fit(self.data[k][0][self.features[k]],self.data[k][2])\n",
    "\n",
    "    def predict(self, x):\n",
    "        for k, v in self.estimators.items():\n",
    "            if k == 0: \n",
    "                output = np.round(v.predict(x[self.features[k]]))\n",
    "            else:\n",
    "                output += np.round(v.predict(x[self.features[k]]))\n",
    "        #take the average of each prediction across all estimators \n",
    "        output = output/len(self.estimators)\n",
    "        return output\n",
    "    \n",
    "    "
   ]
  },
  {
   "cell_type": "code",
   "execution_count": 4,
   "metadata": {},
   "outputs": [],
   "source": [
    "X = fe.X\n",
    "y = fe.y\n",
    "X_train, X_test, y_train, y_test = fe.split_transform(X, y, fe.ord_trans)"
   ]
  },
  {
   "cell_type": "code",
   "execution_count": 5,
   "metadata": {},
   "outputs": [
    {
     "name": "stdout",
     "output_type": "stream",
     "text": [
      "['school', 'sex', 'age', 'address', 'Medu', 'failures', 'activities', 'internet', 'romantic', 'Walc', 'absences', 'G1', 'G2', 'Talc', 'Gavg', 'social']\n",
      "['G1', 'G2', 'Gavg']\n",
      "['G1', 'G2', 'Gavg']\n",
      "['Mjob', 'Fjob', 'address', 'Medu', 'paid', 'activities', 'nursery', 'absences', 'G1', 'G2', 'Gavg', 'social']\n",
      "['age', 'absences', 'G1', 'G2', 'Gavg']\n"
     ]
    }
   ],
   "source": [
    "\n",
    "test = KNEnsemble(5, X = X, y = y)\n",
    "test.fit()"
   ]
  },
  {
   "cell_type": "code",
   "execution_count": 14,
   "metadata": {},
   "outputs": [
    {
     "name": "stdout",
     "output_type": "stream",
     "text": [
      "[10.  12.2 15.   8.  10.6  3.8 12.4 15.   9.8 15.4 15.4  0.   9.4  2.6\n",
      " 11.  12.  18.2 17.6 13.  10.  17.2 11.8  9.4 14.4  7.2 14.4  7.6 11.4\n",
      "  5.8  9.   9.8  8.4 10.8 10.6 12.2 13.   9.6  8.6  8.   9.2 10.4 13.\n",
      " 12.8 11.8 12.4 11.4 13.4 14.4 12.2 15.6 14.4  6.6  7.  18.  12.6  5.8\n",
      " 13.8  4.6 13.   9.6  8.8 16.4 16.2 10.8  5.8 16.  12.2  9.2 15.   7.2\n",
      " 13.2 10.   0.  10.2 13.4 16.8 15.2  2.  18.6 11.  15.  11.2 10.2  8.6\n",
      " 10.   7.2  9.8 11.   0.  11.4 15.8  5.4 15.   9.2 15.2]\n"
     ]
    }
   ],
   "source": [
    "pred = test.predict(X_test)\n",
    "print(pred)"
   ]
  },
  {
   "cell_type": "code",
   "execution_count": 7,
   "metadata": {},
   "outputs": [
    {
     "name": "stdout",
     "output_type": "stream",
     "text": [
      "R2: 0.8900119797906141, MSE: 2.3397894736842106, MAE: 0.9621052631578947\n"
     ]
    }
   ],
   "source": [
    "#final results \n",
    "r2 = r2_score(y_test, pred)\n",
    "mse = mean_squared_error(y_test, pred)\n",
    "mae = mean_absolute_error(y_test,pred)\n",
    "print (f\"R2: {r2}, MSE: {mse}, MAE: {mae}\")"
   ]
  },
  {
   "cell_type": "code",
   "execution_count": 12,
   "metadata": {},
   "outputs": [
    {
     "name": "stderr",
     "output_type": "stream",
     "text": [
      "/var/folders/03/ncpt0f556jn9mwpykfyp_0rr0000gn/T/ipykernel_72419/1326823136.py:7: FutureWarning: \n",
      "\n",
      "Passing `palette` without assigning `hue` is deprecated and will be removed in v0.14.0. Assign the `x` variable to `hue` and set `legend=False` for the same effect.\n",
      "\n",
      "  sns.boxplot(data = df, x = 'true', y = 'error', palette= sns.color_palette('bright', 20))\n",
      "/var/folders/03/ncpt0f556jn9mwpykfyp_0rr0000gn/T/ipykernel_72419/1326823136.py:7: UserWarning: The palette list has more values (20) than needed (14), which may not be intended.\n",
      "  sns.boxplot(data = df, x = 'true', y = 'error', palette= sns.color_palette('bright', 20))\n"
     ]
    },
    {
     "data": {
      "image/png": "[encoded data removed]",
      "text/plain": [
       "<Figure size 640x480 with 1 Axes>"
      ]
     },
     "metadata": {},
     "output_type": "display_data"
    }
   ],
   "source": [
    "#show error by value \n",
    "errors = [abs(pred[i]-list(y_test)[i]) for i in range(len(pred))]\n",
    "df = pd.DataFrame()\n",
    "df['true'] = y_test\n",
    "df['error'] = errors\n",
    "\n",
    "sns.boxplot(data = df, x = 'true', y = 'error', palette= sns.color_palette('bright', 20))\n",
    "plt.title(\"Absolute Error by G3 Value\")\n",
    "plt.xlabel('True G3')\n",
    "plt.ylabel(\"Absolute Error\")\n",
    "plt.savefig('figures/error_vs_true_ensemble.png', bbox_inches=\"tight\")"
   ]
  },
  {
   "cell_type": "code",
   "execution_count": 9,
   "metadata": {},
   "outputs": [
    {
     "data": {
      "text/html": [
       "<div>\n",
       "<style scoped>\n",
       "    .dataframe tbody tr th:only-of-type {\n",
       "        vertical-align: middle;\n",
       "    }\n",
       "\n",
       "    .dataframe tbody tr th {\n",
       "        vertical-align: top;\n",
       "    }\n",
       "\n",
       "    .dataframe thead th {\n",
       "        text-align: right;\n",
       "    }\n",
       "</style>\n",
       "<table border=\"1\" class=\"dataframe\">\n",
       "  <thead>\n",
       "    <tr style=\"text-align: right;\">\n",
       "      <th></th>\n",
       "      <th>error</th>\n",
       "    </tr>\n",
       "    <tr>\n",
       "      <th>true</th>\n",
       "      <th></th>\n",
       "    </tr>\n",
       "  </thead>\n",
       "  <tbody>\n",
       "    <tr>\n",
       "      <th>0</th>\n",
       "      <td>2.977778</td>\n",
       "    </tr>\n",
       "    <tr>\n",
       "      <th>7</th>\n",
       "      <td>0.700000</td>\n",
       "    </tr>\n",
       "    <tr>\n",
       "      <th>8</th>\n",
       "      <td>1.088889</td>\n",
       "    </tr>\n",
       "    <tr>\n",
       "      <th>9</th>\n",
       "      <td>0.850000</td>\n",
       "    </tr>\n",
       "    <tr>\n",
       "      <th>10</th>\n",
       "      <td>0.628571</td>\n",
       "    </tr>\n",
       "    <tr>\n",
       "      <th>11</th>\n",
       "      <td>0.760000</td>\n",
       "    </tr>\n",
       "    <tr>\n",
       "      <th>12</th>\n",
       "      <td>0.822222</td>\n",
       "    </tr>\n",
       "    <tr>\n",
       "      <th>13</th>\n",
       "      <td>0.555556</td>\n",
       "    </tr>\n",
       "    <tr>\n",
       "      <th>14</th>\n",
       "      <td>0.714286</td>\n",
       "    </tr>\n",
       "    <tr>\n",
       "      <th>15</th>\n",
       "      <td>0.500000</td>\n",
       "    </tr>\n",
       "    <tr>\n",
       "      <th>16</th>\n",
       "      <td>0.933333</td>\n",
       "    </tr>\n",
       "    <tr>\n",
       "      <th>17</th>\n",
       "      <td>0.933333</td>\n",
       "    </tr>\n",
       "    <tr>\n",
       "      <th>18</th>\n",
       "      <td>1.000000</td>\n",
       "    </tr>\n",
       "    <tr>\n",
       "      <th>19</th>\n",
       "      <td>0.866667</td>\n",
       "    </tr>\n",
       "  </tbody>\n",
       "</table>\n",
       "</div>"
      ],
      "text/plain": [
       "         error\n",
       "true          \n",
       "0     2.977778\n",
       "7     0.700000\n",
       "8     1.088889\n",
       "9     0.850000\n",
       "10    0.628571\n",
       "11    0.760000\n",
       "12    0.822222\n",
       "13    0.555556\n",
       "14    0.714286\n",
       "15    0.500000\n",
       "16    0.933333\n",
       "17    0.933333\n",
       "18    1.000000\n",
       "19    0.866667"
      ]
     },
     "execution_count": 9,
     "metadata": {},
     "output_type": "execute_result"
    }
   ],
   "source": [
    "df.groupby('true').agg({'error' : 'mean'})"
   ]
  },
  {
   "cell_type": "code",
   "execution_count": 16,
   "metadata": {},
   "outputs": [],
   "source": [
    "kn = KNeighborsRegressor(n_neighbors=2, weights = 'uniform')\n",
    "features = ['absences', 'G1', 'G2', 'Gavg', 'social']\t\n",
    "\n",
    "kn.fit(X_train[features], y_train)\n",
    "pred_kn = np.round(kn.predict(X_test[features]))"
   ]
  },
  {
   "cell_type": "code",
   "execution_count": 17,
   "metadata": {},
   "outputs": [],
   "source": [
    "df = pd.DataFrame(columns = ['model', 'r2', 'mae'])\n",
    "df.loc[0] = ['Ensemble', r2, mae]\n",
    "df.loc[1] = ['Lone KN', r2_score(pred_kn, y_test), mean_absolute_error(pred_kn, y_test)]"
   ]
  },
  {
   "cell_type": "code",
   "execution_count": 32,
   "metadata": {},
   "outputs": [
    {
     "name": "stderr",
     "output_type": "stream",
     "text": [
      "/var/folders/03/ncpt0f556jn9mwpykfyp_0rr0000gn/T/ipykernel_72419/2781896007.py:1: FutureWarning: \n",
      "\n",
      "Passing `palette` without assigning `hue` is deprecated and will be removed in v0.14.0. Assign the `x` variable to `hue` and set `legend=False` for the same effect.\n",
      "\n",
      "  sns.barplot(data = df, x = 'model', y = 'r2', palette = sns.color_palette('husl', 2))\n"
     ]
    },
    {
     "data": {
      "image/png": "[encoded data removed]",
      "text/plain": [
       "<Figure size 640x480 with 1 Axes>"
      ]
     },
     "metadata": {},
     "output_type": "display_data"
    }
   ],
   "source": [
    "sns.barplot(data = df, x = 'model', y = 'r2', palette = sns.color_palette('husl', 2))\n",
    "plt.ylim(0.6)\n",
    "plt.title(\"R2 for Ensemble vs. Lone K-Neighbors\")\n",
    "plt.savefig('figures/r2_ensemble.png', bbox_inches=\"tight\")"
   ]
  },
  {
   "cell_type": "code",
   "execution_count": 33,
   "metadata": {},
   "outputs": [
    {
     "name": "stderr",
     "output_type": "stream",
     "text": [
      "/var/folders/03/ncpt0f556jn9mwpykfyp_0rr0000gn/T/ipykernel_72419/1142068478.py:1: FutureWarning: \n",
      "\n",
      "Passing `palette` without assigning `hue` is deprecated and will be removed in v0.14.0. Assign the `x` variable to `hue` and set `legend=False` for the same effect.\n",
      "\n",
      "  sns.barplot(data = df, x = 'model', y = 'mae', palette = sns.color_palette('husl', 2))\n"
     ]
    },
    {
     "data": {
      "image/png": "[encoded data removed]",
      "text/plain": [
       "<Figure size 640x480 with 1 Axes>"
      ]
     },
     "metadata": {},
     "output_type": "display_data"
    }
   ],
   "source": [
    "\n",
    "sns.barplot(data = df, x = 'model', y = 'mae', palette = sns.color_palette('husl', 2))\n",
    "plt.ylim(0.8)\n",
    "plt.title(\"Mean Absolute Error for Ensemble vs. Lone K-Neighbors\")\n",
    "plt.savefig('figures/mae_ensemble.png', bbox_inches=\"tight\")\n"
   ]
  },
  {
   "cell_type": "code",
   "execution_count": null,
   "metadata": {},
   "outputs": [],
   "source": []
  }
 ],
 "metadata": {
  "kernelspec": {
   "display_name": "Python 3",
   "language": "python",
   "name": "python3"
  },
  "language_info": {
   "codemirror_mode": {
    "name": "ipython",
    "version": 3
   },
   "file_extension": ".py",
   "mimetype": "text/x-python",
   "name": "python",
   "nbconvert_exporter": "python",
   "pygments_lexer": "ipython3",
   "version": "3.12.0"
  }
 },
 "nbformat": 4,
 "nbformat_minor": 2
}
