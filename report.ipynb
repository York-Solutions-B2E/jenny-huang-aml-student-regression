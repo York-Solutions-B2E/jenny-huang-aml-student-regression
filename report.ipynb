{
 "cells": [
  {
   "cell_type": "markdown",
   "metadata": {},
   "source": [
    "Problem:\n",
    "Given various data about a student's personal and academic circumstances, can we predict their final trimester grades?\n"
   ]
  },
  {
   "cell_type": "markdown",
   "metadata": {},
   "source": [
    "Dataset explanation / Exploratory Data Analysis (EDA):\n"
   ]
  },
  {
   "cell_type": "markdown",
   "metadata": {},
   "source": [
    "Feature engineering and selection:\n",
    "-Engineered features\n",
    "-Encoding  \n",
    "-K Best features selection\n"
   ]
  },
  {
   "cell_type": "markdown",
   "metadata": {},
   "source": [
    "Model selection and testing:\n",
    "-Which estimators and why\n",
    "-Tuning hyperparameters"
   ]
  },
  {
   "cell_type": "markdown",
   "metadata": {},
   "source": [
    "Results\n",
    "-Best model\n",
    "    -Best model was KNeighbors, then RandomForest and GradientBoostingTree\n",
    "-Best feature set\n",
    "-Most important features "
   ]
  },
  {
   "cell_type": "markdown",
   "metadata": {},
   "source": [
    "Regression without grade data "
   ]
  }
 ],
 "metadata": {
  "language_info": {
   "name": "python"
  }
 },
 "nbformat": 4,
 "nbformat_minor": 2
}
